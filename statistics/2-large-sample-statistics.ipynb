{
 "cells": [
  {
   "cell_type": "markdown",
   "metadata": {},
   "source": [
    "# Large sample statistics\n",
    "\n",
    "Szymon Talaga | 15 March 2020\n",
    "\n",
    "![ZIP logo](zip.png)\n",
    "\n",
    "<hr>"
   ]
  },
  {
   "cell_type": "markdown",
   "metadata": {},
   "source": [
    "In this notebook we cover R implementations of simple asymptotic methods, mainly $z$ tests and $\\chi^2$ tests. We also discuss bootstrap."
   ]
  },
  {
   "cell_type": "code",
   "execution_count": null,
   "metadata": {},
   "outputs": [],
   "source": [
    "# Packages that we will need\n",
    "library(tidyverse)    # read in core tidyverse packages at once\n",
    "library(BSDA)         # some helper functions for working with z tests\n",
    "library(latex2exp)    # for easy math on plots\n",
    "\n",
    "# Set default theme for ggplot2\n",
    "theme_set(theme_bw())"
   ]
  },
  {
   "cell_type": "markdown",
   "metadata": {},
   "source": [
    "## One sample $z$ test\n",
    "\n",
    "Example with the following set of hypotheses:\n",
    "\n",
    "$$\n",
    "H_0: \\mu = 100\n",
    "$$\n",
    "$$\n",
    "H_1: \\mu \\neq 100\n",
    "$$"
   ]
  },
  {
   "cell_type": "code",
   "execution_count": null,
   "metadata": {},
   "outputs": [],
   "source": [
    "# Sample avarage\n",
    "xbar <- 102\n",
    "# Sample variance\n",
    "s2 <- 225\n",
    "# Sample size\n",
    "n <- 225\n",
    "\n",
    "# Standard error\n",
    "se <- sqrt(s2 / n)\n",
    "\n",
    "# True mean under H0\n",
    "mu0 <- 100\n",
    "\n",
    "# Test statistic\n",
    "z <- (xbar - mu0) / se\n",
    "z\n",
    "\n",
    "# 95% two-sided CI\n",
    "ci95 <- xbar + c(-1, 1) * qnorm(0.975) * se\n",
    "ci95\n",
    "\n",
    "# p-value\n",
    "p <- 2 * (1 - pnorm(abs(z)))\n",
    "p"
   ]
  },
  {
   "cell_type": "code",
   "execution_count": null,
   "metadata": {},
   "outputs": [],
   "source": [
    "## Check with implementation from BDSA package\n",
    "zsum.test(mean.x = 102, sigma.x = sqrt(225), n.x = 225, mu = 100, conf.level = .95)"
   ]
  },
  {
   "cell_type": "markdown",
   "metadata": {},
   "source": [
    "## Two samples $z$ test (disjoint groups)\n",
    "\n",
    "Example with the following set of hypotheses:\n",
    "\n",
    "$$\n",
    "H_0: \\mu_2 \\leq \\mu_1\n",
    "$$\n",
    "$$\n",
    "H_1: \\mu_2 > \\mu_1\n",
    "$$"
   ]
  },
  {
   "cell_type": "code",
   "execution_count": null,
   "metadata": {},
   "outputs": [],
   "source": [
    "# I group\n",
    "n1    <- 100    # sample size\n",
    "xbar1 <- 10     # sample average\n",
    "s2_1  <- 9      # sample variance\n",
    "\n",
    "# II second group\n",
    "n2    <- 70     # sample size\n",
    "xbar2 <- 12     # sample average\n",
    "s2_2  <- 16     # sample variance\n",
    "\n",
    "\n",
    "# Difference between sample averages\n",
    "dbar <- xbar2 - xbar1\n",
    "\n",
    "# Variancde of `dbar`\n",
    "dbar_v <- s2_1/n1 + s2_2/n2\n",
    "\n",
    "# Standard error\n",
    "se <- sqrt(dbar_v)\n",
    "\n",
    "# Test statistic\n",
    "z <- dbar / se\n",
    "z\n",
    "\n",
    "# 99% one-sided ci\n",
    "ci99 <- c(dbar - qnorm(.99) * se, Inf)\n",
    "ci99\n",
    "\n",
    "# p-value\n",
    "p <- 1 - pnorm(z)\n",
    "p"
   ]
  },
  {
   "cell_type": "code",
   "execution_count": null,
   "metadata": {},
   "outputs": [],
   "source": [
    "## Check with the implementation from BDSA package\n",
    "zsum.test(mean.x = 12, sigma.x = 4, n.x = 70, mean.y= 10, sigma.y = 3, n.y = 100, mu = 0, alternative = \"greater\", conf.level = .99)"
   ]
  },
  {
   "cell_type": "markdown",
   "metadata": {},
   "source": [
    "## Two samples $z$ tests (paired groups)\n",
    "\n",
    "Example with the following set of hypotheses:\n",
    "$$\n",
    "H_0: \\mu_2 = \\mu_1\n",
    "$$\n",
    "$$\n",
    "H_1: \\mu_2 \\neq \\mu_1\n",
    "$$"
   ]
  },
  {
   "cell_type": "code",
   "execution_count": null,
   "metadata": {},
   "outputs": [],
   "source": [
    "# 1st measurements\n",
    "x <- c(10, 12, 15, 20, 7, 11, 15, 18, 9, 10, 11, 13, 15, 16, 9, 10)\n",
    "# 2nd measurements\n",
    "y <- c(11, 9,  14, 18, 12, 10, 9, 17, 15, 12, 12, 14, 15, 16, 14, 13)\n",
    "\n",
    "# Differences (2nd - 1st)\n",
    "d <- y - x\n",
    "# Number of observations\n",
    "n <- length(d)\n",
    "\n",
    "# Mean difference\n",
    "dbar <- mean(d)\n",
    "# Variance of differences (it accounts for covariance between measurements)\n",
    "s2_d <- var(d)\n",
    "\n",
    "# Standard error\n",
    "se <- sqrt(s2_d / n)\n",
    "\n",
    "# Test statistic\n",
    "z <- dbar / se\n",
    "z\n",
    "\n",
    "# Two-sided 95% confidence interval\n",
    "ci95 <- dbar + c(-1, 1) * qnorm(0.975) * se\n",
    "ci95\n",
    "\n",
    "# p-value\n",
    "p <- 2*(1 - pnorm(abs(z)))\n",
    "z"
   ]
  },
  {
   "cell_type": "code",
   "execution_count": null,
   "metadata": {},
   "outputs": [],
   "source": [
    "## Check with implementation from BDSA package\n",
    "zsum.test(mean.x = dbar, sigma.x = sqrt(s2_d), n.x = n, alternative = \"two.sided\", conf.level = 0.95)"
   ]
  },
  {
   "cell_type": "markdown",
   "metadata": {},
   "source": [
    "## $\\chi^2$ goodness-of-fit and independence\n",
    "\n",
    "Test if a coin is unbiased:\n",
    "\n",
    "$$\n",
    "H_0: P(H) = P(T) = \\frac{1}{2}\n",
    "$$"
   ]
  },
  {
   "cell_type": "code",
   "execution_count": null,
   "metadata": {},
   "outputs": [],
   "source": [
    "## Check if a sequence of coin tosses is unbiased\n",
    "x <- c(0, 0, 1, 1, 0, 0, 1, 0, 0, 0, 1, 1, 1, 0, 0, 0, 0, 0, 1, 1, 1, 1, 0)\n",
    "\n",
    "# Distribution over outcomes assumed in H0\n",
    "p0 <-c(1/2, 1/2)\n",
    "\n",
    "# tabulate values of\n",
    "x_tab <- table(x)\n",
    "x_tab\n",
    "\n",
    "chisq.test(x_tab, p = p0)"
   ]
  },
  {
   "cell_type": "markdown",
   "metadata": {},
   "source": [
    "Check if two coins are independent."
   ]
  },
  {
   "cell_type": "code",
   "execution_count": null,
   "metadata": {},
   "outputs": [],
   "source": [
    "x <- c(0, 0, 1, 1, 0, 0, 1, 0, 0, 0, 1, 1, 1, 0, 0, 0, 0, 0, 1, 1, 1, 1, 0)\n",
    "y <- c(1, 0, 1, 0, 1, 0, 1, 0, 0, 1, 1, 0, 0, 1, 1, 1, 0, 0, 0, 1, 1, 0, 0)\n",
    "\n",
    "# Tabulate results together\n",
    "xy_tab <- table(x, y)\n",
    "xy_tab\n",
    "\n",
    "chisq.test(xy_tab, correct = FALSE)"
   ]
  },
  {
   "cell_type": "markdown",
   "metadata": {},
   "source": [
    "`R` is throwin a warning because some cell frequencies are not greater than $5$.\n",
    "Moreover, for small sample sizes it is better to use so-called Yates continuity correction (only for 2-by-2 tables)."
   ]
  },
  {
   "cell_type": "code",
   "execution_count": null,
   "metadata": {},
   "outputs": [],
   "source": [
    "chisq.test(xy_tab, correct = TRUE)"
   ]
  },
  {
   "cell_type": "markdown",
   "metadata": {},
   "source": [
    "However, if we really want to test whether two coins are ''working correctly'' we should test for their independence and lack of bias jointly.\n",
    "This is actually simple. We can treat their joint distribution (over pairs $HH$, $HT$, $TH$ and $TT$) as a distribution over a single categorical variable,\n",
    "and assuming the coins are independent and unbiased we can fully specify as:\n",
    "$$\n",
    "P(HH) = P(HT) = P(TH) = P(TT) = \\frac{1}{4}\n",
    "$$\n",
    "\n",
    "This is our null hypothesis $H_0$."
   ]
  },
  {
   "cell_type": "code",
   "execution_count": null,
   "metadata": {},
   "outputs": [],
   "source": [
    "# Distribution over joint outcomes under H0\n",
    "p0 <- rep(1/4, 4) \n",
    "\n",
    "# We have to dump table to a vector\n",
    "xy <- as.vector(xy_tab)\n",
    "xy"
   ]
  },
  {
   "cell_type": "code",
   "execution_count": null,
   "metadata": {},
   "outputs": [],
   "source": [
    "chisq.test(xy, p = p0)"
   ]
  },
  {
   "cell_type": "markdown",
   "metadata": {},
   "source": [
    "We see that the coins are both independent and unbiased."
   ]
  },
  {
   "cell_type": "markdown",
   "metadata": {},
   "source": [
    "## Bootstrap\n",
    "\n",
    "Below we present a simple example of a bootstrap computations.\n",
    "\n",
    "We first implement it by hand and the used a dedicated `R` package.\n",
    "\n",
    "We will construct a bootstrap confidence interval and a Wald type test for difference between medians.\n",
    "We will used simulated data for which we will know the true answer to be able to fully understand the results."
   ]
  },
  {
   "cell_type": "code",
   "execution_count": null,
   "metadata": {},
   "outputs": [],
   "source": [
    "## Two normal distributions with the same median.\n",
    "N  <- 1000 # number of observations\n",
    "x1 <- rnorm(N, mean = 100, sd = 15)\n",
    "x2 <- rnorm(N, mean = 100, sd = 15)\n",
    "\n",
    "# Number of bootstrap replicates\n",
    "B  <- 1000\n",
    "\n",
    "# Preallocate vector for storing simualted medians\n",
    "median_diff_boot <- vector(mode = \"numeric\", length = B)\n",
    "\n",
    "for (i in 1:B) {\n",
    "    x1_sim <- sample(x1, size = N, replace = TRUE)\n",
    "    x2_sim <- sample(x2, size = N, replace = TRUE)\n",
    "    diff_x1_x2 <- median(x1_sim) - median(x2_sim)\n",
    "    median_diff_boot[i] <- diff_x1_x2\n",
    "}\n",
    "\n",
    "# Standard error\n",
    "median_diff_se <- sd(median_diff_boot)\n",
    "\n",
    "# 95% Percentile CI\n",
    "print(quantile(median_diff_boot, probs = c(.025, .975)))"
   ]
  },
  {
   "cell_type": "markdown",
   "metadata": {},
   "source": [
    "Clearly, the confidence interval contains zero and is more or less symmetric around it, so we have no reasons to believe that medians are different.\n",
    "Now change sample size ($N$) to $10000$ and check whether this changes the result. It should not."
   ]
  },
  {
   "cell_type": "markdown",
   "metadata": {},
   "source": [
    "We can examine bootstrap distribution, to decide whether a Wald-type test (assuming normality of the distribution of a statistic) makes sense."
   ]
  },
  {
   "cell_type": "code",
   "execution_count": null,
   "metadata": {},
   "outputs": [],
   "source": [
    "data.frame(median_diff = median_diff_boot) %>%\n",
    "    ggplot(aes(x = median_diff)) +\n",
    "    geom_histogram(color = \"black\")"
   ]
  },
  {
   "cell_type": "markdown",
   "metadata": {},
   "source": [
    "It looks quite normal so we may run a Wald-type test."
   ]
  },
  {
   "cell_type": "code",
   "execution_count": null,
   "metadata": {},
   "outputs": [],
   "source": [
    "z <- (median(x1) - median(x2)) / sd(median_diff_boot)\n",
    "z"
   ]
  },
  {
   "cell_type": "code",
   "execution_count": null,
   "metadata": {},
   "outputs": [],
   "source": [
    "# p-value (two-sided)\n",
    "2 * (1 - pnorm(abs(z)))"
   ]
  },
  {
   "cell_type": "markdown",
   "metadata": {},
   "source": [
    "Now we repeat the same calculations but for data with different medians."
   ]
  },
  {
   "cell_type": "code",
   "execution_count": null,
   "metadata": {},
   "outputs": [],
   "source": [
    "## Two normal distributions with the same median.\n",
    "N  <- 1000 # umber of observations\n",
    "x1 <- rnorm(N, mean = 100, sd = 15)\n",
    "x2 <- rnorm(N, mean = 105, sd = 15)\n",
    "\n",
    "# Number of bootstrap replicates\n",
    "B  <- 1000\n",
    "\n",
    "# Preallocate vector for storing simualted medians\n",
    "median_diff_boot <- vector(mode = \"numeric\", length = B)\n",
    "\n",
    "for (i in 1:B) {\n",
    "    x1_sim <- sample(x1, size = N, replace = TRUE)\n",
    "    x2_sim <- sample(x2, size = N, replace = TRUE)\n",
    "    diff_x1_x2 <- median(x1_sim) - median(x2_sim)\n",
    "    median_diff_boot[i] <- diff_x1_x2\n",
    "}\n",
    "\n",
    "# Standard error\n",
    "median_diff_se <- sd(median_diff_boot)\n",
    "\n",
    "# 95% Percentile CI\n",
    "print(quantile(median_diff_boot, probs = c(.025, .975)))"
   ]
  },
  {
   "cell_type": "code",
   "execution_count": null,
   "metadata": {},
   "outputs": [],
   "source": [
    "data.frame(median_diff = median_diff_boot) %>%\n",
    "    ggplot(aes(x = median_diff)) +\n",
    "    geom_histogram(color = \"black\")"
   ]
  },
  {
   "cell_type": "code",
   "execution_count": null,
   "metadata": {},
   "outputs": [],
   "source": [
    "# Wald test\n",
    "z <- (median(x1) - median(x2)) / sd(median_diff_boot)\n",
    "z\n",
    "# p-value (two-sided)\n",
    "2 * (1 - pnorm(abs(z)))"
   ]
  },
  {
   "cell_type": "markdown",
   "metadata": {},
   "source": [
    "### `boot` package\n",
    "\n",
    "`boot` package provides convenient utility functions for generating bootstrap distributions and estimators. It also implements many advanced bootstrap techniques.\n",
    "You may find short introduction [here](https://stats.idre.ucla.edu/r/library/r-library-introduction-to-bootstrapping/).\n",
    "\n",
    "Below we solve our problem with the main function `boot` from `boot` package. The main work we have to do is to define a function that takes a data and indexes\n",
    "used for selecting observations to a bootstrap sample and calculates a statistic."
   ]
  },
  {
   "cell_type": "code",
   "execution_count": null,
   "metadata": {},
   "outputs": [],
   "source": [
    "library(boot)\n",
    "\n",
    "# Number of bootstrap replicates\n",
    "R <- 1000\n",
    "# Data: two vectors joined as a single data frame\n",
    "data <- data.frame(\n",
    "    x1 = x1,\n",
    "    x2 = x2\n",
    ")\n",
    "\n",
    "# Bootstrapping function\n",
    "median_diff_func <- function(data, idx) {\n",
    "    median(data[idx, \"x1\"] - data[idx, \"x2\"])\n",
    "}\n",
    "\n",
    "\n",
    "boot_result <- boot(data, median_diff_func, R = R)\n",
    "boot_result"
   ]
  },
  {
   "cell_type": "code",
   "execution_count": null,
   "metadata": {},
   "outputs": [],
   "source": [
    "# Simulated medians differences\n",
    "head(boot_result$t)"
   ]
  },
  {
   "cell_type": "code",
   "execution_count": null,
   "metadata": {},
   "outputs": [],
   "source": [
    "# Original median difference\n",
    "boot_result$t0"
   ]
  },
  {
   "cell_type": "code",
   "execution_count": null,
   "metadata": {},
   "outputs": [],
   "source": [
    "# 95% Percentile CI\n",
    "quantile(boot_result$t, probs = c(0.025, 0.975))"
   ]
  },
  {
   "cell_type": "code",
   "execution_count": null,
   "metadata": {},
   "outputs": [],
   "source": [
    "# Wald type test\n",
    "z <- boot_result$t0 / sd(boot_result$t)\n",
    "z"
   ]
  },
  {
   "cell_type": "code",
   "execution_count": null,
   "metadata": {},
   "outputs": [],
   "source": []
  }
 ],
 "metadata": {
  "kernelspec": {
   "display_name": "R",
   "language": "R",
   "name": "ir"
  },
  "language_info": {
   "codemirror_mode": "r",
   "file_extension": ".r",
   "mimetype": "text/x-r-source",
   "name": "R",
   "pygments_lexer": "r",
   "version": "3.6.3"
  }
 },
 "nbformat": 4,
 "nbformat_minor": 4
}
