{
 "cells": [
  {
   "cell_type": "markdown",
   "metadata": {},
   "source": [
    "# Advanced statistics | Homework I\n",
    "\n",
    "1 April 2020 (HW is true, it is not April's Fool)\n",
    "\n",
    "**DEADLINE.** 12.04.2020 23:59:59\n",
    "\n",
    "<hr>"
   ]
  },
  {
   "cell_type": "markdown",
   "metadata": {},
   "source": [
    "## General rules\n",
    "\n",
    "The homework consists of two parts: A and B. \n",
    "\n",
    "### Part A\n",
    "\n",
    "Part A consists of $5$ pen-and-paper exercises. Your are not supposed to hand in full derivations which you should do, well, with a pen and paper. Instead write down just the main steps, so I can tell that you know what you are doing. If you know `LaTeX` then it is recommended to use it to write down equations (although you should not worry too much about style and formatting issues), since this way it will be easiest for me to check and grade your work. If you do not know `LaTeX` then you can write just down main steps of your solutions as code comments using some simplified syntax such as:\n",
    "\n",
    "```\n",
    "x^2\n",
    "sum x_1 to x_n\n",
    "sigma^2\n",
    "X ~ Normal(mu, sigma^2)\n",
    "etc.\n",
    "```\n",
    "Alternatively, you may try to describe the main steps of your calculation in natural language and provide just the final answer. However, this is the worst option. Another alternative is to write by hand and send me a scan or a photo of pen-and-paper solutions, but in this case please try to write as clearly as possible.\n",
    "\n",
    "### Part B\n",
    "\n",
    "This part consists of $5$ coding problems in which you will be presented with some data and a research question/hypothesis and your task will be to conduct a valid, correct statistical analysis in order to answer the question or validate the hypothesis. More detailed information about good practices for solving this part are provided in the beginning of part B section of this notebook.\n",
    "\n",
    "**Hint.** It is almost always a good idea to start by visualizing your data. You should also check out `summary` function in `R`.\n",
    "\n",
    "\n",
    "### Grading\n",
    "\n",
    "There are $10$ problems in total. They all similarly difficult so they have same weights (2 points for each). We will use the following grading scale:\n",
    "\n",
    " * < 10 points $\\mapsto$ 2\n",
    " * < 14 points $\\mapsto$ 3\n",
    " * < 18 points $\\mapsto$ 4\n",
    " * $\\geq$ 18 points $\\mapsto$ 5\n",
    " \n",
    "However, there is one additional caveat. You need to score **at least $2$ points from each part** to get a passing grade regardless of the total number of points you have.\n",
    "\n",
    "Deadline is 12.04.2020 (23:59:59).\n",
    " \n",
    "\n",
    "\n",
    "### Other rules\n",
    "\n",
    "This is an open-anything homework which you do on your own in your own pace without any supervision. This means that I have absolutely no means of controlling whether you do your homeworks yourselves or\n",
    "copy solutions from someone else. However, this is not an undergrad by MA program, so I assume we are all adults here and you will not abuse this freedome and cheat. That being said, this does not mean\n",
    "that you should not discuss problems between yourselves, you should as you can learn a great deal this way. You should just not give each other ready-made solution, but rather general hints etc.\n",
    "\n",
    "Last but not least, if you cheat now, you will not learn too much and later on probably will fail miserably at the sit-in final exam (provided we have it, since it is not yet sure due to the epidemy situation).\n",
    "\n",
    "<hr>"
   ]
  },
  {
   "cell_type": "markdown",
   "metadata": {},
   "source": [
    "## Pen-and-paper problems (A)"
   ]
  },
  {
   "cell_type": "markdown",
   "metadata": {},
   "source": [
    "### A1\n",
    "\n",
    "Show that:\n",
    "$$\n",
    "\\sum_{i=1}^n (x_i - \\bar{x}) = 0\n",
    "$$\n",
    "where $\\bar{x}$ is a sample mean (arithmetic average). Show that the same holds for $\\mathbb{E}[X$ and $\\mathbb{E}[X]]$, that is:\n",
    "$$\n",
    "\\mathbb{E}[X - \\mathbb{E}[X]] = 0\n",
    "$$"
   ]
  },
  {
   "cell_type": "markdown",
   "metadata": {},
   "source": [
    "### A2\n",
    "\n",
    "Show that:\n",
    "$$\n",
    "\\text{Var}[aX + bY] = a^2\\text{Var}[X] + b^2\\text{Var}[X] + 2ab\\text{Cov}[X, Y]\n",
    "$$\n",
    "where $a$ and $b$ are two constants.\n",
    "\n",
    "**Hint.** Start with the definition of variance:\n",
    "$$\n",
    "\\text{Var}[X] = \\mathbb{E}[(X - \\mathbb{E}[X])^2] = \\mathbb{E}[X^2] - \\mathbb{E}[X]^2\n",
    "$$\n",
    "\n",
    "**Hint II.** Remember about the definition of covariance that:\n",
    "$$\n",
    "\\text{Cov}[X, Y] = \\mathbb{E}[(X - \\mathbb{E}[X])(Y - \\mathbb{E}[Y])] = \\mathbb{E}[XY] - \\mathbb{E}[X]\\mathbb{E}[Y]\n",
    "$$"
   ]
  },
  {
   "cell_type": "markdown",
   "metadata": {},
   "source": [
    "### A3\n",
    "\n",
    "Let $X$ be a random normal variable with mean $\\mu_X$ and variance $\\sigma^2_Y$ and $Y$ be another random normal variable with mean $\\mu_Y$ and variance $\\sigma^2_Y$. Furthermore, there is no covariance between them, $\\text{Cov}[X, Y] = 0$. Are $X$ and $Y$ independent? What if at least one of them was not normal? Justify your answer."
   ]
  },
  {
   "cell_type": "markdown",
   "metadata": {},
   "source": [
    "### A4\n",
    "\n",
    "Let $A$ and $B$ be two events and $P(A \\cap B) = P(A)P(B)$. Does it imply that:\n",
    "$$\n",
    "P(A^C \\cap B^C) = P(A^C)P(B^C)\n",
    "$$\n",
    "where $A^C$ and $B^C$ are complements of events $A$ and $B$. Justify your answer (mathematically)."
   ]
  },
  {
   "cell_type": "markdown",
   "metadata": {},
   "source": [
    "### A5\n",
    "\n",
    "Let $\\bar{x}_1 = 80$ be a sample mean in a group of $n_1 = 50$ observations ($s_1^2 = 36$) and $\\bar{x}_2 = 85$ be a sample mean in a group of $n_2 = 60$ observations ($s^2_2 = 49$). Use an appropriate two-sample $z$ test to test whether true means in the two groups are different. Start by defining proper null and alternative hypotheses. Provide $p$-value and an appropriate confidence interval. Use significance level $\\alpha = 0.01$."
   ]
  },
  {
   "cell_type": "markdown",
   "metadata": {},
   "source": [
    "## Coding problems\n",
    "\n",
    "In most of the exercises below you will be asked to conduct a statistical analysis in order to answer some question or questions. The important part of this process is looking at data and choosing proper hypotheses and associated statistical tests. Moreover, you should always report your results in an appropriate manner. You should use natural language so your description of results can be understood by a lay person but also provide technical details necessary for assessment by a trained person. In particular, you should always provide values of test statistic that you used and use a proper symbol to denote it, parameters of a distribution of the test statistic (for instance, if it is $\\chi^2$ you should specify the number of degrees of freedom). When running hypothesis tests you should also always provide a proper $p$-value and a confidence interval assessing uncertainty around the best point estimate of the effect you study. If not specified, always use signficance level $\\alpha = 0.05$, so confidence intervals should have confidence level $1 - \\alpha = 0.95$. Remember to choose your hypotheses correctly and reflect this choice also in confidence intervals you provide. Thus, if a hypothesis is two-sided, then a corresponding confidence interval should also be two-sided.\n",
    "\n",
    "You can use any `R` packages you want, but should retain yourselves to the statistical methods that we covered thus far.\n",
    "\n",
    "**Hint.** It is almost always a good idea to start by visualizing your data. You should also check out `summary` function in `R`."
   ]
  },
  {
   "cell_type": "code",
   "execution_count": null,
   "metadata": {},
   "outputs": [],
   "source": [
    "library(tidyverse)\n",
    "library(boot)"
   ]
  },
  {
   "cell_type": "markdown",
   "metadata": {},
   "source": [
    "<hr>\n",
    "\n",
    "### B1\n",
    "\n",
    "In this problem you will work with `sleep` dataset provided with base `R` installation."
   ]
  },
  {
   "cell_type": "code",
   "execution_count": null,
   "metadata": {},
   "outputs": [],
   "source": [
    "data(sleep)\n",
    "sleep"
   ]
  },
  {
   "cell_type": "markdown",
   "metadata": {},
   "source": [
    "It consists of two sets of measurements of efficacy of a soporofic drug (supposed to increase hours of sleep compared to control) for $10$ subjects. Note that `group` column does not specify independent\n",
    "groups but indexes different measurements for the same subject as defined by `ID` column. The dependent variable is of course column `extra`.\n",
    "\n",
    "Test the efficacy of the drug, which is supposed to increase hours of sleep, in terms of change in average values of increas of sleep hours. Formulate proper hypotheses, visualize data as necessary to choose proper statistical tests and construct an appropriate confidence interval.\n",
    "\n",
    "**Note.** It is not clear from the documentation what exactly `extra` measures (whether it is a change in hours of sleep, but with respect to what, or somethin else), but it does not matter for us in this exercise\n",
    "as it does not affect the statistical procedure."
   ]
  },
  {
   "cell_type": "code",
   "execution_count": null,
   "metadata": {},
   "outputs": [],
   "source": [
    "## YOUR SOLUTION"
   ]
  },
  {
   "cell_type": "markdown",
   "metadata": {},
   "source": [
    "<hr>\n",
    "\n",
    "### B2\n",
    "\n",
    "In this exercise you will work with `chickwts` dataset of measurements of chicken weights in $6$ independent groups fed with different types of food."
   ]
  },
  {
   "cell_type": "code",
   "execution_count": null,
   "metadata": {},
   "outputs": [],
   "source": [
    "data(chickwts)\n",
    "head(chickwts)"
   ]
  },
  {
   "cell_type": "markdown",
   "metadata": {},
   "source": [
    "Your task is to compare all groups with each other in pairs. Choose a proper test for such comparisons. Use significance level $\\alpha = 0.05$.\n",
    "\n",
    "How many test do you have to run? \n",
    "\n",
    "This time you have to choose a proper test and justify your choice, but you do not have to report results. Instead, consider whether what you did is correct in terms of statistics. In particular, think about the type I error rate. Is it fixed for the set of all tests? Is the probability of observing one or more type I errors (rejecting $H_0$ when it is true) $\\alpha = 0.05$ or does it change somehow due to the fact that you run multiple tests?\n",
    "\n",
    "If you can, try to estimate what is the probability of observing at least one type I error assuming that null hypothesis is true in all cases. Assume that all tests are independent from each other\n",
    "(which makes sense if $H_0$ holds in every case).\n",
    "\n",
    "**HINT.** You may use two `for` loops to run the tests easily."
   ]
  },
  {
   "cell_type": "code",
   "execution_count": null,
   "metadata": {},
   "outputs": [],
   "source": [
    "## YOUR SOLUTION"
   ]
  },
  {
   "cell_type": "markdown",
   "metadata": {},
   "source": [
    "<hr>\n",
    "\n",
    "### B3\n",
    "\n"
   ]
  },
  {
   "cell_type": "markdown",
   "metadata": {},
   "source": [
    "In this exercise you will work with a dataset about hair and eye colors in a group of students. It has a form of a 3-dimensional array (two tables stacked one on top of another)."
   ]
  },
  {
   "cell_type": "code",
   "execution_count": null,
   "metadata": {},
   "outputs": [],
   "source": [
    "data(HairEyeColor)\n",
    "HairEyeColor"
   ]
  },
  {
   "cell_type": "markdown",
   "metadata": {},
   "source": [
    "Aggregate the data so it is not split by sex and run a test to check whether hair and eye colors are independent. Would you trust results of the same test for individual sexes to the same extent as previously? Justify your answer.\n",
    "\n",
    "**HINT.** Warnings thrown by `R` can be insightful here."
   ]
  },
  {
   "cell_type": "code",
   "execution_count": null,
   "metadata": {},
   "outputs": [],
   "source": [
    "## YOUR SOLUTION"
   ]
  },
  {
   "cell_type": "markdown",
   "metadata": {},
   "source": [
    "<hr>\n",
    "\n",
    "### B4\n",
    "\n",
    "You will work with `iris` dataset of measurements of petal and sepal lenghts and widths for three different species of _iris_ flowers. "
   ]
  },
  {
   "cell_type": "code",
   "execution_count": null,
   "metadata": {},
   "outputs": [],
   "source": [
    "head(iris)"
   ]
  },
  {
   "cell_type": "markdown",
   "metadata": {},
   "source": [
    "Check whether sepals of _setosa_ flowers are on average longer in than those of _virginica_. Choose a proper test and hypothesis. Use $\\alpha = 0.01$.\n",
    "\n",
    "Report results correctly and visualize them in manner that clearly presents your results.\n",
    "\n",
    "**NOTE.** There are good ways to visualize results. Anything that is legible and presents the results will be accepted."
   ]
  },
  {
   "cell_type": "code",
   "execution_count": null,
   "metadata": {},
   "outputs": [],
   "source": [
    "## YOUR SOLUTION"
   ]
  },
  {
   "cell_type": "markdown",
   "metadata": {},
   "source": [
    "<hr>\n",
    "\n",
    "### B5\n",
    "\n",
    "In this exercise you will work with `diamonds` dataset. It consists of many different measurements for a set $53 940$ diamonds of different types and quality.\n",
    "However, here you are interested in the correlation between `carat` and `price`."
   ]
  },
  {
   "cell_type": "code",
   "execution_count": null,
   "metadata": {},
   "outputs": [],
   "source": [
    "head(diamonds)"
   ]
  },
  {
   "cell_type": "markdown",
   "metadata": {},
   "source": [
    "Consider _cuts_ of diamonds which is a jargon term of general quality."
   ]
  },
  {
   "cell_type": "code",
   "execution_count": null,
   "metadata": {},
   "outputs": [],
   "source": [
    "table(diamonds$cut)"
   ]
  },
  {
   "cell_type": "markdown",
   "metadata": {},
   "source": [
    "First, create a new column in which you define a simplified classification based on cuts. Specifically, you should collapse `Fair`, `Good` and `Very Good` together and join `Premium` and `Ideal` so they make a second class. Your new classification to test correlation between `carat` and `price` is the same in both groups.\n",
    "\n",
    "Try to report your results in a reasonable way. They should be more or less understandable for a lay person, but also provide more finely-grained details. In particular, you should somehow show how much uncertainty there is around your best point estimate.\n",
    "\n",
    "**HINT.** You can compute correlation between two data vectors with `cor` function.\n",
    "\n",
    "**HINT II.** This is a sort of problem which can be hard to tackle analytically. Better you a more computational approach."
   ]
  },
  {
   "cell_type": "code",
   "execution_count": null,
   "metadata": {},
   "outputs": [],
   "source": [
    "## YOUR SOLUTION"
   ]
  }
 ],
 "metadata": {
  "kernelspec": {
   "display_name": "R",
   "language": "R",
   "name": "ir"
  },
  "language_info": {
   "codemirror_mode": "r",
   "file_extension": ".r",
   "mimetype": "text/x-r-source",
   "name": "R",
   "pygments_lexer": "r",
   "version": "3.6.3"
  }
 },
 "nbformat": 4,
 "nbformat_minor": 4
}
